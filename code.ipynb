{
 "cells": [
  {
   "cell_type": "code",
   "execution_count": null,
   "metadata": {},
   "outputs": [],
   "source": []
  },
  {
   "cell_type": "code",
   "execution_count": 2,
   "metadata": {},
   "outputs": [
    {
     "name": "stderr",
     "output_type": "stream",
     "text": [
      "/home/namch/anaconda3/envs/ggml/lib/python3.10/site-packages/tqdm/auto.py:21: TqdmWarning: IProgress not found. Please update jupyter and ipywidgets. See https://ipywidgets.readthedocs.io/en/stable/user_install.html\n",
      "  from .autonotebook import tqdm as notebook_tqdm\n"
     ]
    }
   ],
   "source": [
    "import transformers\n",
    "from transformers import AutoModel, AutoModelForCausalLM"
   ]
  },
  {
   "cell_type": "code",
   "execution_count": 3,
   "metadata": {},
   "outputs": [],
   "source": [
    "model = AutoModel.from_pretrained('cerebras/Cerebras-GPT-111M')"
   ]
  },
  {
   "cell_type": "code",
   "execution_count": null,
   "metadata": {},
   "outputs": [],
   "source": [
    "model.config"
   ]
  },
  {
   "cell_type": "code",
   "execution_count": 5,
   "metadata": {},
   "outputs": [],
   "source": [
    "import json\n",
    "with open(\"/home/namch/ggml/build/Cerebras-GPT-111M/config.json\", \"r\", encoding=\"utf8\") as f:\n",
    "    hparams = json.load(f)"
   ]
  },
  {
   "cell_type": "code",
   "execution_count": null,
   "metadata": {},
   "outputs": [],
   "source": [
    "hparams"
   ]
  },
  {
   "cell_type": "code",
   "execution_count": 4,
   "metadata": {},
   "outputs": [],
   "source": [
    "dir_model = 'cerebras/Cerebras-GPT-111M'\n",
    "model = AutoModelForCausalLM.from_pretrained(dir_model, low_cpu_mem_usage=True)"
   ]
  },
  {
   "cell_type": "code",
   "execution_count": 5,
   "metadata": {},
   "outputs": [],
   "source": [
    "list_vars = model.state_dict()"
   ]
  },
  {
   "cell_type": "code",
   "execution_count": 6,
   "metadata": {},
   "outputs": [
    {
     "data": {
      "text/plain": [
       "collections.OrderedDict"
      ]
     },
     "execution_count": 6,
     "metadata": {},
     "output_type": "execute_result"
    }
   ],
   "source": [
    "type(list_vars)"
   ]
  },
  {
   "cell_type": "code",
   "execution_count": null,
   "metadata": {},
   "outputs": [],
   "source": [
    "dir(list_vars)"
   ]
  },
  {
   "cell_type": "code",
   "execution_count": null,
   "metadata": {},
   "outputs": [],
   "source": [
    "for i in list_vars:\n",
    "    print(i)"
   ]
  },
  {
   "cell_type": "code",
   "execution_count": 9,
   "metadata": {},
   "outputs": [],
   "source": [
    "import json\n",
    "with open(\"/home/namch/ggml/build/Cerebras-GPT-111M/vocab.json\", \"r\", encoding=\"utf8\") as f:\n",
    "    encoder = json.load(f)\n"
   ]
  },
  {
   "cell_type": "code",
   "execution_count": 12,
   "metadata": {},
   "outputs": [
    {
     "name": "stdout",
     "output_type": "stream",
     "text": [
      "!\n",
      "0\n"
     ]
    }
   ],
   "source": [
    "for key in encoder:\n",
    "    print(key)\n",
    "    print(encoder[key])\n",
    "    break"
   ]
  },
  {
   "cell_type": "code",
   "execution_count": 7,
   "metadata": {},
   "outputs": [
    {
     "name": "stdout",
     "output_type": "stream",
     "text": [
      "transformer.wte.weight\n",
      "Processing variable: transformer.wte.weight with shape:  (50257, 768)\n",
      "transformer.wpe.weight\n",
      "Processing variable: transformer.wpe.weight with shape:  (2048, 768)\n",
      "transformer.h.0.ln_1.weight\n",
      "Processing variable: transformer.h.0.ln_1.weight with shape:  (768,)\n",
      "transformer.h.0.ln_1.bias\n",
      "Processing variable: transformer.h.0.ln_1.bias with shape:  (768,)\n",
      "transformer.h.0.attn.bias\n",
      "Processing variable: transformer.h.0.attn.bias with shape:  (2048, 2048)\n",
      "transformer.h.0.attn.masked_bias\n",
      "Processing variable: transformer.h.0.attn.masked_bias with shape:  ()\n",
      "transformer.h.0.attn.c_attn.weight\n",
      "Processing variable: transformer.h.0.attn.c_attn.weight with shape:  (768, 2304)\n",
      "transformer.h.0.attn.c_attn.bias\n",
      "Processing variable: transformer.h.0.attn.c_attn.bias with shape:  (2304,)\n",
      "transformer.h.0.attn.c_proj.weight\n",
      "Processing variable: transformer.h.0.attn.c_proj.weight with shape:  (768, 768)\n",
      "transformer.h.0.attn.c_proj.bias\n",
      "Processing variable: transformer.h.0.attn.c_proj.bias with shape:  (768,)\n",
      "transformer.h.0.ln_2.weight\n",
      "Processing variable: transformer.h.0.ln_2.weight with shape:  (768,)\n",
      "transformer.h.0.ln_2.bias\n",
      "Processing variable: transformer.h.0.ln_2.bias with shape:  (768,)\n",
      "transformer.h.0.mlp.c_fc.weight\n",
      "Processing variable: transformer.h.0.mlp.c_fc.weight with shape:  (768, 3072)\n",
      "transformer.h.0.mlp.c_fc.bias\n",
      "Processing variable: transformer.h.0.mlp.c_fc.bias with shape:  (3072,)\n",
      "transformer.h.0.mlp.c_proj.weight\n",
      "Processing variable: transformer.h.0.mlp.c_proj.weight with shape:  (3072, 768)\n",
      "transformer.h.0.mlp.c_proj.bias\n",
      "Processing variable: transformer.h.0.mlp.c_proj.bias with shape:  (768,)\n",
      "transformer.h.1.ln_1.weight\n",
      "Processing variable: transformer.h.1.ln_1.weight with shape:  (768,)\n",
      "transformer.h.1.ln_1.bias\n",
      "Processing variable: transformer.h.1.ln_1.bias with shape:  (768,)\n",
      "transformer.h.1.attn.bias\n",
      "Processing variable: transformer.h.1.attn.bias with shape:  (2048, 2048)\n",
      "transformer.h.1.attn.masked_bias\n",
      "Processing variable: transformer.h.1.attn.masked_bias with shape:  ()\n",
      "transformer.h.1.attn.c_attn.weight\n",
      "Processing variable: transformer.h.1.attn.c_attn.weight with shape:  (768, 2304)\n",
      "transformer.h.1.attn.c_attn.bias\n",
      "Processing variable: transformer.h.1.attn.c_attn.bias with shape:  (2304,)\n",
      "transformer.h.1.attn.c_proj.weight\n",
      "Processing variable: transformer.h.1.attn.c_proj.weight with shape:  (768, 768)\n",
      "transformer.h.1.attn.c_proj.bias\n",
      "Processing variable: transformer.h.1.attn.c_proj.bias with shape:  (768,)\n",
      "transformer.h.1.ln_2.weight\n",
      "Processing variable: transformer.h.1.ln_2.weight with shape:  (768,)\n",
      "transformer.h.1.ln_2.bias\n",
      "Processing variable: transformer.h.1.ln_2.bias with shape:  (768,)\n",
      "transformer.h.1.mlp.c_fc.weight\n",
      "Processing variable: transformer.h.1.mlp.c_fc.weight with shape:  (768, 3072)\n",
      "transformer.h.1.mlp.c_fc.bias\n",
      "Processing variable: transformer.h.1.mlp.c_fc.bias with shape:  (3072,)\n",
      "transformer.h.1.mlp.c_proj.weight\n",
      "Processing variable: transformer.h.1.mlp.c_proj.weight with shape:  (3072, 768)\n",
      "transformer.h.1.mlp.c_proj.bias\n",
      "Processing variable: transformer.h.1.mlp.c_proj.bias with shape:  (768,)\n",
      "transformer.h.2.ln_1.weight\n",
      "Processing variable: transformer.h.2.ln_1.weight with shape:  (768,)\n",
      "transformer.h.2.ln_1.bias\n",
      "Processing variable: transformer.h.2.ln_1.bias with shape:  (768,)\n",
      "transformer.h.2.attn.bias\n",
      "Processing variable: transformer.h.2.attn.bias with shape:  (2048, 2048)\n",
      "transformer.h.2.attn.masked_bias\n",
      "Processing variable: transformer.h.2.attn.masked_bias with shape:  ()\n",
      "transformer.h.2.attn.c_attn.weight\n",
      "Processing variable: transformer.h.2.attn.c_attn.weight with shape:  (768, 2304)\n",
      "transformer.h.2.attn.c_attn.bias\n",
      "Processing variable: transformer.h.2.attn.c_attn.bias with shape:  (2304,)\n",
      "transformer.h.2.attn.c_proj.weight\n",
      "Processing variable: transformer.h.2.attn.c_proj.weight with shape:  (768, 768)\n",
      "transformer.h.2.attn.c_proj.bias\n",
      "Processing variable: transformer.h.2.attn.c_proj.bias with shape:  (768,)\n",
      "transformer.h.2.ln_2.weight\n",
      "Processing variable: transformer.h.2.ln_2.weight with shape:  (768,)\n",
      "transformer.h.2.ln_2.bias\n",
      "Processing variable: transformer.h.2.ln_2.bias with shape:  (768,)\n",
      "transformer.h.2.mlp.c_fc.weight\n",
      "Processing variable: transformer.h.2.mlp.c_fc.weight with shape:  (768, 3072)\n",
      "transformer.h.2.mlp.c_fc.bias\n",
      "Processing variable: transformer.h.2.mlp.c_fc.bias with shape:  (3072,)\n",
      "transformer.h.2.mlp.c_proj.weight\n",
      "Processing variable: transformer.h.2.mlp.c_proj.weight with shape:  (3072, 768)\n",
      "transformer.h.2.mlp.c_proj.bias\n",
      "Processing variable: transformer.h.2.mlp.c_proj.bias with shape:  (768,)\n",
      "transformer.h.3.ln_1.weight\n",
      "Processing variable: transformer.h.3.ln_1.weight with shape:  (768,)\n",
      "transformer.h.3.ln_1.bias\n",
      "Processing variable: transformer.h.3.ln_1.bias with shape:  (768,)\n",
      "transformer.h.3.attn.bias\n",
      "Processing variable: transformer.h.3.attn.bias with shape:  (2048, 2048)\n",
      "transformer.h.3.attn.masked_bias\n",
      "Processing variable: transformer.h.3.attn.masked_bias with shape:  ()\n",
      "transformer.h.3.attn.c_attn.weight\n",
      "Processing variable: transformer.h.3.attn.c_attn.weight with shape:  (768, 2304)\n",
      "transformer.h.3.attn.c_attn.bias\n",
      "Processing variable: transformer.h.3.attn.c_attn.bias with shape:  (2304,)\n",
      "transformer.h.3.attn.c_proj.weight\n",
      "Processing variable: transformer.h.3.attn.c_proj.weight with shape:  (768, 768)\n",
      "transformer.h.3.attn.c_proj.bias\n",
      "Processing variable: transformer.h.3.attn.c_proj.bias with shape:  (768,)\n",
      "transformer.h.3.ln_2.weight\n",
      "Processing variable: transformer.h.3.ln_2.weight with shape:  (768,)\n",
      "transformer.h.3.ln_2.bias\n",
      "Processing variable: transformer.h.3.ln_2.bias with shape:  (768,)\n",
      "transformer.h.3.mlp.c_fc.weight\n",
      "Processing variable: transformer.h.3.mlp.c_fc.weight with shape:  (768, 3072)\n",
      "transformer.h.3.mlp.c_fc.bias\n",
      "Processing variable: transformer.h.3.mlp.c_fc.bias with shape:  (3072,)\n",
      "transformer.h.3.mlp.c_proj.weight\n",
      "Processing variable: transformer.h.3.mlp.c_proj.weight with shape:  (3072, 768)\n",
      "transformer.h.3.mlp.c_proj.bias\n",
      "Processing variable: transformer.h.3.mlp.c_proj.bias with shape:  (768,)\n",
      "transformer.h.4.ln_1.weight\n",
      "Processing variable: transformer.h.4.ln_1.weight with shape:  (768,)\n",
      "transformer.h.4.ln_1.bias\n",
      "Processing variable: transformer.h.4.ln_1.bias with shape:  (768,)\n",
      "transformer.h.4.attn.bias\n",
      "Processing variable: transformer.h.4.attn.bias with shape:  (2048, 2048)\n",
      "transformer.h.4.attn.masked_bias\n",
      "Processing variable: transformer.h.4.attn.masked_bias with shape:  ()\n",
      "transformer.h.4.attn.c_attn.weight\n",
      "Processing variable: transformer.h.4.attn.c_attn.weight with shape:  (768, 2304)\n",
      "transformer.h.4.attn.c_attn.bias\n",
      "Processing variable: transformer.h.4.attn.c_attn.bias with shape:  (2304,)\n",
      "transformer.h.4.attn.c_proj.weight\n",
      "Processing variable: transformer.h.4.attn.c_proj.weight with shape:  (768, 768)\n",
      "transformer.h.4.attn.c_proj.bias\n",
      "Processing variable: transformer.h.4.attn.c_proj.bias with shape:  (768,)\n",
      "transformer.h.4.ln_2.weight\n",
      "Processing variable: transformer.h.4.ln_2.weight with shape:  (768,)\n",
      "transformer.h.4.ln_2.bias\n",
      "Processing variable: transformer.h.4.ln_2.bias with shape:  (768,)\n",
      "transformer.h.4.mlp.c_fc.weight\n",
      "Processing variable: transformer.h.4.mlp.c_fc.weight with shape:  (768, 3072)\n",
      "transformer.h.4.mlp.c_fc.bias\n",
      "Processing variable: transformer.h.4.mlp.c_fc.bias with shape:  (3072,)\n",
      "transformer.h.4.mlp.c_proj.weight\n",
      "Processing variable: transformer.h.4.mlp.c_proj.weight with shape:  (3072, 768)\n",
      "transformer.h.4.mlp.c_proj.bias\n",
      "Processing variable: transformer.h.4.mlp.c_proj.bias with shape:  (768,)\n",
      "transformer.h.5.ln_1.weight\n",
      "Processing variable: transformer.h.5.ln_1.weight with shape:  (768,)\n",
      "transformer.h.5.ln_1.bias\n",
      "Processing variable: transformer.h.5.ln_1.bias with shape:  (768,)\n",
      "transformer.h.5.attn.bias\n",
      "Processing variable: transformer.h.5.attn.bias with shape:  (2048, 2048)\n",
      "transformer.h.5.attn.masked_bias\n",
      "Processing variable: transformer.h.5.attn.masked_bias with shape:  ()\n",
      "transformer.h.5.attn.c_attn.weight\n",
      "Processing variable: transformer.h.5.attn.c_attn.weight with shape:  (768, 2304)\n",
      "transformer.h.5.attn.c_attn.bias\n",
      "Processing variable: transformer.h.5.attn.c_attn.bias with shape:  (2304,)\n",
      "transformer.h.5.attn.c_proj.weight\n",
      "Processing variable: transformer.h.5.attn.c_proj.weight with shape:  (768, 768)\n",
      "transformer.h.5.attn.c_proj.bias\n",
      "Processing variable: transformer.h.5.attn.c_proj.bias with shape:  (768,)\n",
      "transformer.h.5.ln_2.weight\n",
      "Processing variable: transformer.h.5.ln_2.weight with shape:  (768,)\n",
      "transformer.h.5.ln_2.bias\n",
      "Processing variable: transformer.h.5.ln_2.bias with shape:  (768,)\n",
      "transformer.h.5.mlp.c_fc.weight\n",
      "Processing variable: transformer.h.5.mlp.c_fc.weight with shape:  (768, 3072)\n",
      "transformer.h.5.mlp.c_fc.bias\n",
      "Processing variable: transformer.h.5.mlp.c_fc.bias with shape:  (3072,)\n",
      "transformer.h.5.mlp.c_proj.weight\n",
      "Processing variable: transformer.h.5.mlp.c_proj.weight with shape:  (3072, 768)\n",
      "transformer.h.5.mlp.c_proj.bias\n",
      "Processing variable: transformer.h.5.mlp.c_proj.bias with shape:  (768,)\n",
      "transformer.h.6.ln_1.weight\n",
      "Processing variable: transformer.h.6.ln_1.weight with shape:  (768,)\n",
      "transformer.h.6.ln_1.bias\n",
      "Processing variable: transformer.h.6.ln_1.bias with shape:  (768,)\n",
      "transformer.h.6.attn.bias\n",
      "Processing variable: transformer.h.6.attn.bias with shape:  (2048, 2048)\n",
      "transformer.h.6.attn.masked_bias\n",
      "Processing variable: transformer.h.6.attn.masked_bias with shape:  ()\n",
      "transformer.h.6.attn.c_attn.weight\n",
      "Processing variable: transformer.h.6.attn.c_attn.weight with shape:  (768, 2304)\n",
      "transformer.h.6.attn.c_attn.bias\n",
      "Processing variable: transformer.h.6.attn.c_attn.bias with shape:  (2304,)\n",
      "transformer.h.6.attn.c_proj.weight\n",
      "Processing variable: transformer.h.6.attn.c_proj.weight with shape:  (768, 768)\n",
      "transformer.h.6.attn.c_proj.bias\n",
      "Processing variable: transformer.h.6.attn.c_proj.bias with shape:  (768,)\n",
      "transformer.h.6.ln_2.weight\n",
      "Processing variable: transformer.h.6.ln_2.weight with shape:  (768,)\n",
      "transformer.h.6.ln_2.bias\n",
      "Processing variable: transformer.h.6.ln_2.bias with shape:  (768,)\n",
      "transformer.h.6.mlp.c_fc.weight\n",
      "Processing variable: transformer.h.6.mlp.c_fc.weight with shape:  (768, 3072)\n",
      "transformer.h.6.mlp.c_fc.bias\n",
      "Processing variable: transformer.h.6.mlp.c_fc.bias with shape:  (3072,)\n",
      "transformer.h.6.mlp.c_proj.weight\n",
      "Processing variable: transformer.h.6.mlp.c_proj.weight with shape:  (3072, 768)\n",
      "transformer.h.6.mlp.c_proj.bias\n",
      "Processing variable: transformer.h.6.mlp.c_proj.bias with shape:  (768,)\n",
      "transformer.h.7.ln_1.weight\n",
      "Processing variable: transformer.h.7.ln_1.weight with shape:  (768,)\n",
      "transformer.h.7.ln_1.bias\n",
      "Processing variable: transformer.h.7.ln_1.bias with shape:  (768,)\n",
      "transformer.h.7.attn.bias\n",
      "Processing variable: transformer.h.7.attn.bias with shape:  (2048, 2048)\n",
      "transformer.h.7.attn.masked_bias\n",
      "Processing variable: transformer.h.7.attn.masked_bias with shape:  ()\n",
      "transformer.h.7.attn.c_attn.weight\n",
      "Processing variable: transformer.h.7.attn.c_attn.weight with shape:  (768, 2304)\n",
      "transformer.h.7.attn.c_attn.bias\n",
      "Processing variable: transformer.h.7.attn.c_attn.bias with shape:  (2304,)\n",
      "transformer.h.7.attn.c_proj.weight\n",
      "Processing variable: transformer.h.7.attn.c_proj.weight with shape:  (768, 768)\n",
      "transformer.h.7.attn.c_proj.bias\n",
      "Processing variable: transformer.h.7.attn.c_proj.bias with shape:  (768,)\n",
      "transformer.h.7.ln_2.weight\n",
      "Processing variable: transformer.h.7.ln_2.weight with shape:  (768,)\n",
      "transformer.h.7.ln_2.bias\n",
      "Processing variable: transformer.h.7.ln_2.bias with shape:  (768,)\n",
      "transformer.h.7.mlp.c_fc.weight\n",
      "Processing variable: transformer.h.7.mlp.c_fc.weight with shape:  (768, 3072)\n",
      "transformer.h.7.mlp.c_fc.bias\n",
      "Processing variable: transformer.h.7.mlp.c_fc.bias with shape:  (3072,)\n",
      "transformer.h.7.mlp.c_proj.weight\n",
      "Processing variable: transformer.h.7.mlp.c_proj.weight with shape:  (3072, 768)\n",
      "transformer.h.7.mlp.c_proj.bias\n",
      "Processing variable: transformer.h.7.mlp.c_proj.bias with shape:  (768,)\n",
      "transformer.h.8.ln_1.weight\n",
      "Processing variable: transformer.h.8.ln_1.weight with shape:  (768,)\n",
      "transformer.h.8.ln_1.bias\n",
      "Processing variable: transformer.h.8.ln_1.bias with shape:  (768,)\n",
      "transformer.h.8.attn.bias\n",
      "Processing variable: transformer.h.8.attn.bias with shape:  (2048, 2048)\n",
      "transformer.h.8.attn.masked_bias\n",
      "Processing variable: transformer.h.8.attn.masked_bias with shape:  ()\n",
      "transformer.h.8.attn.c_attn.weight\n",
      "Processing variable: transformer.h.8.attn.c_attn.weight with shape:  (768, 2304)\n",
      "transformer.h.8.attn.c_attn.bias\n",
      "Processing variable: transformer.h.8.attn.c_attn.bias with shape:  (2304,)\n",
      "transformer.h.8.attn.c_proj.weight\n",
      "Processing variable: transformer.h.8.attn.c_proj.weight with shape:  (768, 768)\n",
      "transformer.h.8.attn.c_proj.bias\n",
      "Processing variable: transformer.h.8.attn.c_proj.bias with shape:  (768,)\n",
      "transformer.h.8.ln_2.weight\n",
      "Processing variable: transformer.h.8.ln_2.weight with shape:  (768,)\n",
      "transformer.h.8.ln_2.bias\n",
      "Processing variable: transformer.h.8.ln_2.bias with shape:  (768,)\n",
      "transformer.h.8.mlp.c_fc.weight\n",
      "Processing variable: transformer.h.8.mlp.c_fc.weight with shape:  (768, 3072)\n",
      "transformer.h.8.mlp.c_fc.bias\n",
      "Processing variable: transformer.h.8.mlp.c_fc.bias with shape:  (3072,)\n",
      "transformer.h.8.mlp.c_proj.weight\n",
      "Processing variable: transformer.h.8.mlp.c_proj.weight with shape:  (3072, 768)\n",
      "transformer.h.8.mlp.c_proj.bias\n",
      "Processing variable: transformer.h.8.mlp.c_proj.bias with shape:  (768,)\n",
      "transformer.h.9.ln_1.weight\n",
      "Processing variable: transformer.h.9.ln_1.weight with shape:  (768,)\n",
      "transformer.h.9.ln_1.bias\n",
      "Processing variable: transformer.h.9.ln_1.bias with shape:  (768,)\n",
      "transformer.h.9.attn.bias\n",
      "Processing variable: transformer.h.9.attn.bias with shape:  (2048, 2048)\n",
      "transformer.h.9.attn.masked_bias\n",
      "Processing variable: transformer.h.9.attn.masked_bias with shape:  ()\n",
      "transformer.h.9.attn.c_attn.weight\n",
      "Processing variable: transformer.h.9.attn.c_attn.weight with shape:  (768, 2304)\n",
      "transformer.h.9.attn.c_attn.bias\n",
      "Processing variable: transformer.h.9.attn.c_attn.bias with shape:  (2304,)\n",
      "transformer.h.9.attn.c_proj.weight\n",
      "Processing variable: transformer.h.9.attn.c_proj.weight with shape:  (768, 768)\n",
      "transformer.h.9.attn.c_proj.bias\n",
      "Processing variable: transformer.h.9.attn.c_proj.bias with shape:  (768,)\n",
      "transformer.h.9.ln_2.weight\n",
      "Processing variable: transformer.h.9.ln_2.weight with shape:  (768,)\n",
      "transformer.h.9.ln_2.bias\n",
      "Processing variable: transformer.h.9.ln_2.bias with shape:  (768,)\n",
      "transformer.h.9.mlp.c_fc.weight\n",
      "Processing variable: transformer.h.9.mlp.c_fc.weight with shape:  (768, 3072)\n",
      "transformer.h.9.mlp.c_fc.bias\n",
      "Processing variable: transformer.h.9.mlp.c_fc.bias with shape:  (3072,)\n",
      "transformer.h.9.mlp.c_proj.weight\n",
      "Processing variable: transformer.h.9.mlp.c_proj.weight with shape:  (3072, 768)\n",
      "transformer.h.9.mlp.c_proj.bias\n",
      "Processing variable: transformer.h.9.mlp.c_proj.bias with shape:  (768,)\n",
      "transformer.ln_f.weight\n",
      "Processing variable: transformer.ln_f.weight with shape:  (768,)\n",
      "transformer.ln_f.bias\n",
      "Processing variable: transformer.ln_f.bias with shape:  (768,)\n",
      "lm_head.weight\n",
      "Processing variable: lm_head.weight with shape:  (50257, 768)\n"
     ]
    }
   ],
   "source": [
    "for name in list_vars.keys():\n",
    "    print(name)\n",
    "    data = list_vars[name].squeeze().numpy()\n",
    "    print(\"Processing variable: \" + name + \" with shape: \", data.shape)\n",
    "    # break"
   ]
  },
  {
   "cell_type": "code",
   "execution_count": 3,
   "metadata": {},
   "outputs": [
    {
     "data": {
      "text/plain": [
       "1.108390806311491"
      ]
     },
     "execution_count": 3,
     "metadata": {},
     "output_type": "execute_result"
    }
   ],
   "source": [
    "2.2755 / (np.sqrt(3) - 1) - 2"
   ]
  },
  {
   "cell_type": "code",
   "execution_count": null,
   "metadata": {},
   "outputs": [],
   "source": []
  }
 ],
 "metadata": {
  "kernelspec": {
   "display_name": "ggml",
   "language": "python",
   "name": "python3"
  },
  "language_info": {
   "codemirror_mode": {
    "name": "ipython",
    "version": 3
   },
   "file_extension": ".py",
   "mimetype": "text/x-python",
   "name": "python",
   "nbconvert_exporter": "python",
   "pygments_lexer": "ipython3",
   "version": "3.10.13"
  }
 },
 "nbformat": 4,
 "nbformat_minor": 2
}
